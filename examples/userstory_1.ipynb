{
 "cells": [
  {
   "cell_type": "code",
   "execution_count": null,
   "metadata": {
    "collapsed": true
   },
   "outputs": [],
   "source": [
    "import moneypy"
   ]
  },
  {
   "cell_type": "code",
   "execution_count": null,
   "metadata": {
    "collapsed": true
   },
   "outputs": [],
   "source": [
    "#specify the databse to use\n",
    "db = moneypy.select_db('./my_banking.db')\n",
    "# moneypy.select_last_db()"
   ]
  },
  {
   "cell_type": "code",
   "execution_count": null,
   "metadata": {
    "collapsed": true
   },
   "outputs": [],
   "source": [
    "# Load and view existing data\n",
    "db.as_frame().head(10) # Return a pandas dataframe. As_frame should allow to specify what you want to load from the db to avoid loading huge files in memory "
   ]
  },
  {
   "cell_type": "code",
   "execution_count": null,
   "metadata": {
    "collapsed": true
   },
   "outputs": [],
   "source": [
    "# Load new data from a csv file\n",
    "new_data = moneypy.from_csv('./my_banking_files.csv')\n",
    "new_data.summarize() # Print how many entries, how many entries are unlabeled, ..."
   ]
  },
  {
   "cell_type": "code",
   "execution_count": null,
   "metadata": {
    "collapsed": true
   },
   "outputs": [],
   "source": [
    "lablers = moneypy.get_default_lablers(db) # Get all label filter that are configured for a certain db\n",
    "\n",
    "import MyLabler from mylablers  # Import a custom labler, the user has written him/herself\n",
    "\n",
    "lablers.append(MyLabler)\n",
    "labeled_data = new_data.label(MyLabler) # Add label and category automatically\n",
    "\n",
    "labeled_data.head()"
   ]
  },
  {
   "cell_type": "code",
   "execution_count": null,
   "metadata": {
    "collapsed": true
   },
   "outputs": [],
   "source": [
    "# Save the new data in the db\n",
    "db.store(labeled_data) # Save the data and (somehow check if the entries already exist)\n",
    "\n",
    "db.as_frame().head(10) # Show the new values loaded from the database"
   ]
  },
  {
   "cell_type": "code",
   "execution_count": null,
   "metadata": {
    "collapsed": true
   },
   "outputs": [],
   "source": [
    "# get all entries related to food\n",
    "food_filter = monepy.RegexFilter('category', '^food$')\n",
    "food_entrys = food_filter.apply(db)"
   ]
  },
  {
   "cell_type": "code",
   "execution_count": null,
   "metadata": {
    "collapsed": true
   },
   "outputs": [],
   "source": [
    "food_entys.plot.piechart('recipient') # create a piechart showing how much of your food money you have spend where"
   ]
  }
 ],
 "metadata": {
  "kernelspec": {
   "display_name": "Python 3",
   "language": "python",
   "name": "python3"
  },
  "language_info": {
   "codemirror_mode": {
    "name": "ipython",
    "version": 3
   },
   "file_extension": ".py",
   "mimetype": "text/x-python",
   "name": "python",
   "nbconvert_exporter": "python",
   "pygments_lexer": "ipython3",
   "version": "3.6.1"
  }
 },
 "nbformat": 4,
 "nbformat_minor": 2
}
